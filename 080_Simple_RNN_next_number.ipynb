{
  "nbformat": 4,
  "nbformat_minor": 0,
  "metadata": {
    "kernelspec": {
      "display_name": "Python 3.7.5 64-bit ('tf20': conda)",
      "language": "python",
      "name": "python37564bittf20condadea3cb99c47a4fadb6986afca4b98e1b"
    },
    "language_info": {
      "codemirror_mode": {
        "name": "ipython",
        "version": 3
      },
      "file_extension": ".py",
      "mimetype": "text/x-python",
      "name": "python",
      "nbconvert_exporter": "python",
      "pygments_lexer": "ipython3",
      "version": "3.7.5"
    },
    "colab": {
      "name": "080.Simple_RNN_next_number.ipynb",
      "provenance": []
    }
  },
  "cells": [
    {
      "cell_type": "markdown",
      "metadata": {
        "id": "ND0gap8XMxrZ"
      },
      "source": [
        "# 080. Simple RNN\n",
        "\n",
        "- Simple RNN을 이용한 **시계열 예측**\n",
        "\n",
        "<img src='time_prediction.png' width=40% />"
      ]
    },
    {
      "cell_type": "code",
      "metadata": {
        "id": "W1OHciZTMxre"
      },
      "source": [
        "import torch\n",
        "from torch import nn\n",
        "import numpy as np\n",
        "import matplotlib.pyplot as plt"
      ],
      "execution_count": 1,
      "outputs": []
    },
    {
      "cell_type": "markdown",
      "metadata": {
        "id": "O8MvzT8FMxrf"
      },
      "source": [
        "## 시계열 Toy Data 생성 \n",
        "\n",
        "- sequence toy data로 sine wave 생성 (predictable 한 data point 생성)  \n",
        "- RNN은 시계열 Data 생성이 까다로움"
      ]
    },
    {
      "cell_type": "code",
      "metadata": {
        "colab": {
          "base_uri": "https://localhost:8080/"
        },
        "id": "lOUwkLf7Mxrf",
        "outputId": "ad3b2de5-df09-4803-e214-e48110e8afb4"
      },
      "source": [
        "numbers = [[i] for i in range(105)]\n",
        "numbers[:5]"
      ],
      "execution_count": 2,
      "outputs": [
        {
          "output_type": "execute_result",
          "data": {
            "text/plain": [
              "[[0], [1], [2], [3], [4]]"
            ]
          },
          "metadata": {
            "tags": []
          },
          "execution_count": 2
        }
      ]
    },
    {
      "cell_type": "markdown",
      "metadata": {
        "id": "wnLgOEwwMxrg"
      },
      "source": [
        "- input, label data 생성"
      ]
    },
    {
      "cell_type": "code",
      "metadata": {
        "colab": {
          "base_uri": "https://localhost:8080/"
        },
        "id": "M16EMrg3Mxrg",
        "outputId": "dde8e1c4-9e52-419b-c51e-f6dff2d3ecaa"
      },
      "source": [
        "data = []\n",
        "target = []\n",
        "\n",
        "for i in range(5, len(numbers)):\n",
        "    data.append(numbers[i-5:i])\n",
        "    target.append(numbers[i][0] * 2)\n",
        "\n",
        "data = torch.tensor(data, dtype=torch.float) / 100\n",
        "target = torch.tensor(target, dtype=torch.float).unsqueeze(1) / 100\n",
        "print(data[10])\n",
        "print(target[10])"
      ],
      "execution_count": 3,
      "outputs": [
        {
          "output_type": "stream",
          "text": [
            "tensor([[0.1000],\n",
            "        [0.1100],\n",
            "        [0.1200],\n",
            "        [0.1300],\n",
            "        [0.1400]])\n",
            "tensor([0.3000])\n"
          ],
          "name": "stdout"
        }
      ]
    },
    {
      "cell_type": "code",
      "metadata": {
        "colab": {
          "base_uri": "https://localhost:8080/"
        },
        "id": "P6DrbhDlMxrg",
        "outputId": "938ee16f-e6de-4b79-f779-b0950f2ce203"
      },
      "source": [
        "data.shape, target.shape"
      ],
      "execution_count": 4,
      "outputs": [
        {
          "output_type": "execute_result",
          "data": {
            "text/plain": [
              "(torch.Size([100, 5, 1]), torch.Size([100, 1]))"
            ]
          },
          "metadata": {
            "tags": []
          },
          "execution_count": 4
        }
      ]
    },
    {
      "cell_type": "markdown",
      "metadata": {
        "id": "VXDH2-sKMxrh"
      },
      "source": [
        "## Define the RNN\n",
        "\n",
        "- `nn.RNN`을 사용하여 RNN 레이어를 생성한 다음, 원하는 출력 크기를 얻기 위해 fully-connected layer를 추가  \n",
        "\n",
        "- RNN의 parameters:  \n",
        "\n",
        "    * **input_size** - input X의 feature 수\n",
        "    * **hidden_dim** - RNN 출력 및 hidden state의 neuron 수\n",
        "    * **n_layers** - RNN을 구성하는 레이어 수 (일반적으로 1-3 개) 1보다 크면 stacked RNN을 생성한다는 의미\n",
        "    * **batch_first** - RNN의 입력 / 출력이 첫 번째 차원으로 batch_size를 가질지 여부 (batch_size, seq_length, hidden_dim)"
      ]
    },
    {
      "cell_type": "code",
      "metadata": {
        "id": "BHjcBtbQMxrh"
      },
      "source": [
        "class RNN(nn.Module):\n",
        "    def __init__(self, input_size, output_size, hidden_dim, n_layers=1):\n",
        "        super(RNN, self).__init__()\n",
        "        \n",
        "        self.hidden_dim = hidden_dim\n",
        "        self.rnn = nn.RNN(input_size, hidden_dim, n_layers, \n",
        "                          batch_first=True, nonlinearity='relu')\n",
        "        self.fc  = nn.Linear(hidden_dim, output_size)\n",
        "        \n",
        "    def forward(self, x, hidden):\n",
        "        # x (batch_size, seq_length, input_size)\n",
        "        # hidden (n_layers, batch_size, hidden_dim)\n",
        "        # r_out (batch_size, time_step, hidden_size)\n",
        "        r_out, hidden = self.rnn(x, hidden)\n",
        "        \n",
        "        # sequence-to-vector (last time step만 사용)\n",
        "        output = self.fc(r_out[:, -1, :])\n",
        "        \n",
        "        return output, hidden"
      ],
      "execution_count": 5,
      "outputs": []
    },
    {
      "cell_type": "markdown",
      "metadata": {
        "id": "z9FCpq47Mxrh"
      },
      "source": [
        "### Check the input and output dimensions\n",
        "\n",
        "- 모델이 예상대로 작동하는지 확인"
      ]
    },
    {
      "cell_type": "code",
      "metadata": {
        "colab": {
          "base_uri": "https://localhost:8080/"
        },
        "id": "F3TMO-EEMxri",
        "outputId": "0d9da2be-b763-4dfd-e329-fc07bee3bbca"
      },
      "source": [
        "# test that dimensions \n",
        "test_rnn = RNN(input_size=1, output_size=1, hidden_dim=10)\n",
        "\n",
        "# test out rnn sizes\n",
        "test_out, test_h = test_rnn(data, None)  #None - hidden 초기화\n",
        "\n",
        "print('Output size: ', test_out.size())\n",
        "print('Hidden state size: ', test_h.size())"
      ],
      "execution_count": 6,
      "outputs": [
        {
          "output_type": "stream",
          "text": [
            "Output size:  torch.Size([100, 1])\n",
            "Hidden state size:  torch.Size([1, 100, 10])\n"
          ],
          "name": "stdout"
        }
      ]
    },
    {
      "cell_type": "markdown",
      "metadata": {
        "id": "7EQuPj0VMxri"
      },
      "source": [
        "---\n",
        "## Training the RNN\n",
        "\n",
        "- 지정된 하이퍼 파라미터를 사용하여 RNN을 인스턴스화 및 train"
      ]
    },
    {
      "cell_type": "code",
      "metadata": {
        "colab": {
          "base_uri": "https://localhost:8080/"
        },
        "id": "AuPc43VPMxri",
        "outputId": "f593e2ff-b8b8-4f41-f84b-7c825740df05"
      },
      "source": [
        "# hyperparameters\n",
        "input_size=1 \n",
        "output_size=1\n",
        "hidden_dim=32\n",
        "\n",
        "# instantiate an RNN\n",
        "rnn = RNN(input_size, output_size, hidden_dim)\n",
        "print(rnn)"
      ],
      "execution_count": 7,
      "outputs": [
        {
          "output_type": "stream",
          "text": [
            "RNN(\n",
            "  (rnn): RNN(1, 32, batch_first=True)\n",
            "  (fc): Linear(in_features=32, out_features=1, bias=True)\n",
            ")\n"
          ],
          "name": "stdout"
        }
      ]
    },
    {
      "cell_type": "code",
      "metadata": {
        "id": "ZziB4PWpMxri"
      },
      "source": [
        "# MSE loss and Adam optimizer with a learning rate of 0.01\n",
        "criterion = nn.L1Loss()\n",
        "optimizer = torch.optim.Adam(rnn.parameters(), lr=0.01) "
      ],
      "execution_count": 8,
      "outputs": []
    },
    {
      "cell_type": "code",
      "metadata": {
        "colab": {
          "base_uri": "https://localhost:8080/"
        },
        "id": "AONpiwrHMxri",
        "outputId": "126b83e5-d2cf-453f-9080-1ad3b2fb1e51"
      },
      "source": [
        "n_steps = 1000\n",
        "print_every = 100\n",
        "\n",
        "# initialize the hidden state\n",
        "hidden = None      \n",
        "\n",
        "for step in range(n_steps):\n",
        "\n",
        "    prediction, hidden = rnn(data, hidden)\n",
        "\n",
        "    ## Representing Memory ##\n",
        "    # make a new variable for hidden and detach the hidden state from its history\n",
        "    # this way, we don't backpropagate through the entire history\n",
        "    hidden = hidden.data\n",
        "\n",
        "    # calculate the loss\n",
        "    loss = criterion(prediction, target)\n",
        "    # zero gradients\n",
        "    optimizer.zero_grad()\n",
        "    # perform backprop and update weights\n",
        "    loss.backward()\n",
        "    optimizer.step()\n",
        "\n",
        "    # display loss and predictions\n",
        "    if step % print_every == 0:        \n",
        "        print('Loss after step {1} = {0} '.format(loss.item(),  step))"
      ],
      "execution_count": 9,
      "outputs": [
        {
          "output_type": "stream",
          "text": [
            "Loss after step 0 = 1.1827688217163086 \n",
            "Loss after step 100 = 0.0523453988134861 \n",
            "Loss after step 200 = 0.051971014589071274 \n",
            "Loss after step 300 = 0.04098355770111084 \n",
            "Loss after step 400 = 0.0013526598922908306 \n",
            "Loss after step 500 = 0.033330272883176804 \n",
            "Loss after step 600 = 0.02454654686152935 \n",
            "Loss after step 700 = 0.002366532338783145 \n",
            "Loss after step 800 = 0.062323641031980515 \n",
            "Loss after step 900 = 0.0016910142730921507 \n"
          ],
          "name": "stdout"
        }
      ]
    },
    {
      "cell_type": "code",
      "metadata": {
        "colab": {
          "base_uri": "https://localhost:8080/"
        },
        "id": "wmNe2Zs-Mxrj",
        "outputId": "3230bcbf-cd35-422d-f59d-dbc066db43e8"
      },
      "source": [
        "test_data = torch.tensor([[35], [36], [37], [38], [39]], dtype=torch.float).unsqueeze(0) / 100\n",
        "test_data.shape"
      ],
      "execution_count": 10,
      "outputs": [
        {
          "output_type": "execute_result",
          "data": {
            "text/plain": [
              "torch.Size([1, 5, 1])"
            ]
          },
          "metadata": {
            "tags": []
          },
          "execution_count": 10
        }
      ]
    },
    {
      "cell_type": "code",
      "metadata": {
        "colab": {
          "base_uri": "https://localhost:8080/"
        },
        "id": "7cGjMm8VMxrj",
        "outputId": "cefbd4aa-3229-4dc0-8a09-50a7cb74fe67"
      },
      "source": [
        "predict, _ = rnn(test_data, None)\n",
        "predict[0][-1]"
      ],
      "execution_count": 11,
      "outputs": [
        {
          "output_type": "execute_result",
          "data": {
            "text/plain": [
              "tensor(0.7806, grad_fn=<SelectBackward>)"
            ]
          },
          "metadata": {
            "tags": []
          },
          "execution_count": 11
        }
      ]
    },
    {
      "cell_type": "code",
      "metadata": {
        "id": "IMFTqCQZMxrj"
      },
      "source": [
        ""
      ],
      "execution_count": 11,
      "outputs": []
    }
  ]
}