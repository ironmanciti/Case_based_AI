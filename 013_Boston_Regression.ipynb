{
  "nbformat": 4,
  "nbformat_minor": 0,
  "metadata": {
    "kernelspec": {
      "display_name": "Python 3",
      "language": "python",
      "name": "python3"
    },
    "language_info": {
      "codemirror_mode": {
        "name": "ipython",
        "version": 3
      },
      "file_extension": ".py",
      "mimetype": "text/x-python",
      "name": "python",
      "nbconvert_exporter": "python",
      "pygments_lexer": "ipython3",
      "version": "3.7.5"
    },
    "colab": {
      "name": "013_Boston_Regression.ipynb",
      "provenance": []
    },
    "accelerator": "GPU"
  },
  "cells": [
    {
      "cell_type": "markdown",
      "metadata": {
        "id": "h3Lrrj_mzu0y"
      },
      "source": [
        "# 013.Boston House Price Regression\n",
        "\n",
        "### 13 개의 종속변수와 1 개의 독립변수 (주택가격 중앙값) 으로 구성\n",
        "\n",
        "#### 종속변수 (13 개)\n",
        "CRIM 자치시(town) 별 1인당 범죄율  \n",
        "ZN 25,000 평방피트를 초과하는 거주지역의 비율  \n",
        "INDUS 비소매상업지역이 점유하고 있는 토지의 비율  \n",
        "CHAS 찰스강에 대한 더미변수(강의 경계에 위치한 경우는 1, 아니면 0)  \n",
        "NOX 10ppm 당 농축 일산화질소  \n",
        "RM 주택 1가구당 평균 방의 개수  \n",
        "AGE 1940년 이전에 건축된 소유주택의 비율  \n",
        "DIS 5개의 보스턴 직업센터까지의 접근성 지수  \n",
        "RAD 방사형 도로까지의 접근성 지수  \n",
        "TAX 10,000 달러 당 재산세율  \n",
        "PTRATIO 자치시(town)별 학생/교사 비율  \n",
        "B 1000(Bk-0.63)^2, 여기서 Bk는 자치시별 흑인의 비율을 말함  \n",
        "LSTAT 모집단의 하위계층의 비율(%)   \n",
        "\n",
        "#### 독립변수 (1 개)\n",
        "MEDV 본인 소유의 주택가격(중앙값) (단위: $1,000)  "
      ]
    },
    {
      "cell_type": "code",
      "metadata": {
        "id": "O0lLRflCzu04"
      },
      "source": [
        "from sklearn.datasets import load_boston\n",
        "from sklearn.model_selection import train_test_split\n",
        "from sklearn.preprocessing import MinMaxScaler\n",
        "import pandas as pd\n",
        "import matplotlib.pyplot as plt\n",
        "import torch\n",
        "import torch.nn as nn\n",
        "import torch.optim as optim\n",
        "from torch.nn import functional as F"
      ],
      "execution_count": 3,
      "outputs": []
    },
    {
      "cell_type": "code",
      "metadata": {
        "colab": {
          "base_uri": "https://localhost:8080/"
        },
        "id": "Oj79i9I4zu06",
        "outputId": "4e32efd0-6e43-4e7a-d712-4836ca069043"
      },
      "source": [
        "device = torch.device(\"cuda:0\" if torch.cuda.is_available() else \"cpu\")\n",
        "device"
      ],
      "execution_count": 4,
      "outputs": [
        {
          "output_type": "execute_result",
          "data": {
            "text/plain": [
              "device(type='cuda', index=0)"
            ]
          },
          "metadata": {
            "tags": []
          },
          "execution_count": 4
        }
      ]
    },
    {
      "cell_type": "code",
      "metadata": {
        "colab": {
          "base_uri": "https://localhost:8080/",
          "height": 204
        },
        "id": "hODgf_Utzu07",
        "outputId": "928252ec-1b37-46bc-ad37-1d2c2afb3514"
      },
      "source": [
        "boston = load_boston()\n",
        "df_boston = pd.DataFrame(data=boston.data, columns=boston.feature_names)\n",
        "df_boston.head()"
      ],
      "execution_count": 5,
      "outputs": [
        {
          "output_type": "execute_result",
          "data": {
            "text/html": [
              "<div>\n",
              "<style scoped>\n",
              "    .dataframe tbody tr th:only-of-type {\n",
              "        vertical-align: middle;\n",
              "    }\n",
              "\n",
              "    .dataframe tbody tr th {\n",
              "        vertical-align: top;\n",
              "    }\n",
              "\n",
              "    .dataframe thead th {\n",
              "        text-align: right;\n",
              "    }\n",
              "</style>\n",
              "<table border=\"1\" class=\"dataframe\">\n",
              "  <thead>\n",
              "    <tr style=\"text-align: right;\">\n",
              "      <th></th>\n",
              "      <th>CRIM</th>\n",
              "      <th>ZN</th>\n",
              "      <th>INDUS</th>\n",
              "      <th>CHAS</th>\n",
              "      <th>NOX</th>\n",
              "      <th>RM</th>\n",
              "      <th>AGE</th>\n",
              "      <th>DIS</th>\n",
              "      <th>RAD</th>\n",
              "      <th>TAX</th>\n",
              "      <th>PTRATIO</th>\n",
              "      <th>B</th>\n",
              "      <th>LSTAT</th>\n",
              "    </tr>\n",
              "  </thead>\n",
              "  <tbody>\n",
              "    <tr>\n",
              "      <th>0</th>\n",
              "      <td>0.00632</td>\n",
              "      <td>18.0</td>\n",
              "      <td>2.31</td>\n",
              "      <td>0.0</td>\n",
              "      <td>0.538</td>\n",
              "      <td>6.575</td>\n",
              "      <td>65.2</td>\n",
              "      <td>4.0900</td>\n",
              "      <td>1.0</td>\n",
              "      <td>296.0</td>\n",
              "      <td>15.3</td>\n",
              "      <td>396.90</td>\n",
              "      <td>4.98</td>\n",
              "    </tr>\n",
              "    <tr>\n",
              "      <th>1</th>\n",
              "      <td>0.02731</td>\n",
              "      <td>0.0</td>\n",
              "      <td>7.07</td>\n",
              "      <td>0.0</td>\n",
              "      <td>0.469</td>\n",
              "      <td>6.421</td>\n",
              "      <td>78.9</td>\n",
              "      <td>4.9671</td>\n",
              "      <td>2.0</td>\n",
              "      <td>242.0</td>\n",
              "      <td>17.8</td>\n",
              "      <td>396.90</td>\n",
              "      <td>9.14</td>\n",
              "    </tr>\n",
              "    <tr>\n",
              "      <th>2</th>\n",
              "      <td>0.02729</td>\n",
              "      <td>0.0</td>\n",
              "      <td>7.07</td>\n",
              "      <td>0.0</td>\n",
              "      <td>0.469</td>\n",
              "      <td>7.185</td>\n",
              "      <td>61.1</td>\n",
              "      <td>4.9671</td>\n",
              "      <td>2.0</td>\n",
              "      <td>242.0</td>\n",
              "      <td>17.8</td>\n",
              "      <td>392.83</td>\n",
              "      <td>4.03</td>\n",
              "    </tr>\n",
              "    <tr>\n",
              "      <th>3</th>\n",
              "      <td>0.03237</td>\n",
              "      <td>0.0</td>\n",
              "      <td>2.18</td>\n",
              "      <td>0.0</td>\n",
              "      <td>0.458</td>\n",
              "      <td>6.998</td>\n",
              "      <td>45.8</td>\n",
              "      <td>6.0622</td>\n",
              "      <td>3.0</td>\n",
              "      <td>222.0</td>\n",
              "      <td>18.7</td>\n",
              "      <td>394.63</td>\n",
              "      <td>2.94</td>\n",
              "    </tr>\n",
              "    <tr>\n",
              "      <th>4</th>\n",
              "      <td>0.06905</td>\n",
              "      <td>0.0</td>\n",
              "      <td>2.18</td>\n",
              "      <td>0.0</td>\n",
              "      <td>0.458</td>\n",
              "      <td>7.147</td>\n",
              "      <td>54.2</td>\n",
              "      <td>6.0622</td>\n",
              "      <td>3.0</td>\n",
              "      <td>222.0</td>\n",
              "      <td>18.7</td>\n",
              "      <td>396.90</td>\n",
              "      <td>5.33</td>\n",
              "    </tr>\n",
              "  </tbody>\n",
              "</table>\n",
              "</div>"
            ],
            "text/plain": [
              "      CRIM    ZN  INDUS  CHAS    NOX  ...  RAD    TAX  PTRATIO       B  LSTAT\n",
              "0  0.00632  18.0   2.31   0.0  0.538  ...  1.0  296.0     15.3  396.90   4.98\n",
              "1  0.02731   0.0   7.07   0.0  0.469  ...  2.0  242.0     17.8  396.90   9.14\n",
              "2  0.02729   0.0   7.07   0.0  0.469  ...  2.0  242.0     17.8  392.83   4.03\n",
              "3  0.03237   0.0   2.18   0.0  0.458  ...  3.0  222.0     18.7  394.63   2.94\n",
              "4  0.06905   0.0   2.18   0.0  0.458  ...  3.0  222.0     18.7  396.90   5.33\n",
              "\n",
              "[5 rows x 13 columns]"
            ]
          },
          "metadata": {
            "tags": []
          },
          "execution_count": 5
        }
      ]
    },
    {
      "cell_type": "code",
      "metadata": {
        "id": "N9iDjAGPzu08"
      },
      "source": [
        "X = boston.data\n",
        "y = boston.target"
      ],
      "execution_count": 6,
      "outputs": []
    },
    {
      "cell_type": "code",
      "metadata": {
        "colab": {
          "base_uri": "https://localhost:8080/"
        },
        "id": "vM9toBpqzu08",
        "outputId": "96061966-cb57-4a32-b1ec-3b529d390a80"
      },
      "source": [
        "print(X.shape)\n",
        "print(y.shape)"
      ],
      "execution_count": 7,
      "outputs": [
        {
          "output_type": "stream",
          "text": [
            "(506, 13)\n",
            "(506,)\n"
          ],
          "name": "stdout"
        }
      ]
    },
    {
      "cell_type": "code",
      "metadata": {
        "colab": {
          "base_uri": "https://localhost:8080/"
        },
        "id": "RE97Ibt7zu08",
        "outputId": "34de485a-a10e-4f23-978f-7d5aa75e3fb0"
      },
      "source": [
        "X_train, X_test, y_train, y_test = train_test_split(X, y, test_size=0.2)\n",
        "print(X_train.shape, X_test.shape, y_train.shape, y_test.shape)"
      ],
      "execution_count": 8,
      "outputs": [
        {
          "output_type": "stream",
          "text": [
            "(404, 13) (102, 13) (404,) (102,)\n"
          ],
          "name": "stdout"
        }
      ]
    },
    {
      "cell_type": "code",
      "metadata": {
        "id": "cGMwE5uMzu09"
      },
      "source": [
        "sc = MinMaxScaler()\n",
        "X_train = sc.fit_transform(X_train)\n",
        "X_test  = sc.transform(X_test)"
      ],
      "execution_count": 9,
      "outputs": []
    },
    {
      "cell_type": "code",
      "metadata": {
        "colab": {
          "base_uri": "https://localhost:8080/"
        },
        "id": "8vagDnJhzu09",
        "outputId": "6a8b6dd0-01c3-4e29-96f1-22e136d563c6"
      },
      "source": [
        "X_train_ts = torch.tensor(X_train, dtype=torch.float)\n",
        "X_test_ts = torch.tensor(X_test, dtype=torch.float)\n",
        "y_train_ts = torch.tensor(y_train, dtype=torch.float).view(-1, 1)\n",
        "y_test_ts = torch.tensor(y_test, dtype=torch.float).view(-1, 1)\n",
        "\n",
        "X_train_ts.shape, X_test_ts.shape, y_train_ts.shape, y_test_ts.shape"
      ],
      "execution_count": 10,
      "outputs": [
        {
          "output_type": "execute_result",
          "data": {
            "text/plain": [
              "(torch.Size([404, 13]),\n",
              " torch.Size([102, 13]),\n",
              " torch.Size([404, 1]),\n",
              " torch.Size([102, 1]))"
            ]
          },
          "metadata": {
            "tags": []
          },
          "execution_count": 10
        }
      ]
    },
    {
      "cell_type": "markdown",
      "metadata": {
        "id": "Sx1fQQs4zu09"
      },
      "source": [
        "### Linear Model build\n",
        "- one layer linear regression model "
      ]
    },
    {
      "cell_type": "code",
      "metadata": {
        "id": "aPhX54lMzu0-"
      },
      "source": [
        "class LinearReg(nn.Module):\n",
        "    def __init__(self, input_size, output_size):\n",
        "        super(LinearReg, self).__init__()\n",
        "        self.fc1 = nn.Linear(input_size, 64)\n",
        "        self.fc2 = nn.Linear(64, 32)\n",
        "        self.fc3 = nn.Linear(32, output_size)\n",
        "    \n",
        "    def forward(self, x):\n",
        "        x = F.relu(self.fc1(x))\n",
        "        x = F.relu(self.fc2(x))\n",
        "        output = self.fc3(x)\n",
        "        return output"
      ],
      "execution_count": 11,
      "outputs": []
    },
    {
      "cell_type": "code",
      "metadata": {
        "colab": {
          "base_uri": "https://localhost:8080/"
        },
        "id": "0i0qMoaSzu0-",
        "outputId": "9552c23e-21e3-436d-d112-9d1c5c3d7572"
      },
      "source": [
        "model = LinearReg(X_train.shape[1], 1).to(device)\n",
        "model"
      ],
      "execution_count": 12,
      "outputs": [
        {
          "output_type": "execute_result",
          "data": {
            "text/plain": [
              "LinearReg(\n",
              "  (fc1): Linear(in_features=13, out_features=64, bias=True)\n",
              "  (fc2): Linear(in_features=64, out_features=32, bias=True)\n",
              "  (fc3): Linear(in_features=32, out_features=1, bias=True)\n",
              ")"
            ]
          },
          "metadata": {
            "tags": []
          },
          "execution_count": 12
        }
      ]
    },
    {
      "cell_type": "code",
      "metadata": {
        "id": "gVSdD4dazu0_"
      },
      "source": [
        "criterion = nn.MSELoss()\n",
        "optimizer = optim.Adam(model.parameters(), lr=0.001)"
      ],
      "execution_count": 13,
      "outputs": []
    },
    {
      "cell_type": "markdown",
      "metadata": {
        "id": "O-MwjSExzu0_"
      },
      "source": [
        "### dataset loader 생성"
      ]
    },
    {
      "cell_type": "code",
      "metadata": {
        "id": "nvvVZzVIzu0_"
      },
      "source": [
        "train_ds = torch.utils.data.TensorDataset(X_train_ts, y_train_ts)\n",
        "\n",
        "train_loader = torch.utils.data.DataLoader(train_ds, batch_size=32, shuffle=True)"
      ],
      "execution_count": 14,
      "outputs": []
    },
    {
      "cell_type": "markdown",
      "metadata": {
        "id": "7QECX2Xrzu1A"
      },
      "source": [
        "## The training process \n",
        "- Batch data Load \n",
        "- model 을 이용하여 batch data 예측  \n",
        "- loss value 계산 \n",
        "- optimizer 에 저장된 grad value clear\n",
        "- loss value backpropagate \n",
        "- optimizer update  "
      ]
    },
    {
      "cell_type": "code",
      "metadata": {
        "scrolled": true,
        "colab": {
          "base_uri": "https://localhost:8080/"
        },
        "id": "vb1tuRedzu1A",
        "outputId": "f8e2f83c-3a7b-4a95-fb57-656ed47eac78"
      },
      "source": [
        "Loss = []\n",
        "num_epochs = 300\n",
        "for epoch in range(num_epochs):\n",
        "    for x, y in train_loader:\n",
        "        x, y = x.to(device), y.to(device)\n",
        "        yhat = model(x)\n",
        "        loss = criterion(yhat, y)\n",
        "        optimizer.zero_grad()\n",
        "        loss.backward()\n",
        "        optimizer.step()\n",
        "    print(\"epoch {} loss: {:.4f}\".format(epoch + 1, loss.item()))\n",
        "    Loss.append(loss.item())"
      ],
      "execution_count": 15,
      "outputs": [
        {
          "output_type": "stream",
          "text": [
            "epoch 1 loss: 543.9327\n",
            "epoch 2 loss: 544.4004\n",
            "epoch 3 loss: 535.9500\n",
            "epoch 4 loss: 497.0813\n",
            "epoch 5 loss: 268.4644\n",
            "epoch 6 loss: 305.2076\n",
            "epoch 7 loss: 164.4207\n",
            "epoch 8 loss: 191.2301\n",
            "epoch 9 loss: 134.0422\n",
            "epoch 10 loss: 169.3299\n",
            "epoch 11 loss: 149.9606\n",
            "epoch 12 loss: 99.3970\n",
            "epoch 13 loss: 105.2309\n",
            "epoch 14 loss: 64.4289\n",
            "epoch 15 loss: 165.4215\n",
            "epoch 16 loss: 107.5209\n",
            "epoch 17 loss: 58.3597\n",
            "epoch 18 loss: 58.1551\n",
            "epoch 19 loss: 46.4133\n",
            "epoch 20 loss: 25.1538\n",
            "epoch 21 loss: 75.0489\n",
            "epoch 22 loss: 84.0359\n",
            "epoch 23 loss: 86.4699\n",
            "epoch 24 loss: 18.3666\n",
            "epoch 25 loss: 28.3900\n",
            "epoch 26 loss: 33.6756\n",
            "epoch 27 loss: 22.0071\n",
            "epoch 28 loss: 25.1875\n",
            "epoch 29 loss: 63.6660\n",
            "epoch 30 loss: 24.8758\n",
            "epoch 31 loss: 21.6440\n",
            "epoch 32 loss: 34.7018\n",
            "epoch 33 loss: 40.2583\n",
            "epoch 34 loss: 58.9840\n",
            "epoch 35 loss: 81.8373\n",
            "epoch 36 loss: 44.7920\n",
            "epoch 37 loss: 17.6323\n",
            "epoch 38 loss: 26.8597\n",
            "epoch 39 loss: 61.3331\n",
            "epoch 40 loss: 40.7673\n",
            "epoch 41 loss: 18.2809\n",
            "epoch 42 loss: 51.1583\n",
            "epoch 43 loss: 85.4506\n",
            "epoch 44 loss: 50.6940\n",
            "epoch 45 loss: 25.5098\n",
            "epoch 46 loss: 31.1737\n",
            "epoch 47 loss: 36.6888\n",
            "epoch 48 loss: 47.9841\n",
            "epoch 49 loss: 37.9871\n",
            "epoch 50 loss: 26.8936\n",
            "epoch 51 loss: 18.5383\n",
            "epoch 52 loss: 45.4085\n",
            "epoch 53 loss: 17.6520\n",
            "epoch 54 loss: 14.4569\n",
            "epoch 55 loss: 60.4649\n",
            "epoch 56 loss: 15.8908\n",
            "epoch 57 loss: 19.4270\n",
            "epoch 58 loss: 67.7002\n",
            "epoch 59 loss: 15.2567\n",
            "epoch 60 loss: 20.2475\n",
            "epoch 61 loss: 28.9631\n",
            "epoch 62 loss: 23.1032\n",
            "epoch 63 loss: 10.3136\n",
            "epoch 64 loss: 10.4343\n",
            "epoch 65 loss: 17.1902\n",
            "epoch 66 loss: 16.4625\n",
            "epoch 67 loss: 31.3148\n",
            "epoch 68 loss: 13.4444\n",
            "epoch 69 loss: 16.2064\n",
            "epoch 70 loss: 19.5076\n",
            "epoch 71 loss: 12.1131\n",
            "epoch 72 loss: 6.8427\n",
            "epoch 73 loss: 5.3020\n",
            "epoch 74 loss: 15.1812\n",
            "epoch 75 loss: 18.5567\n",
            "epoch 76 loss: 26.3252\n",
            "epoch 77 loss: 25.9393\n",
            "epoch 78 loss: 56.9070\n",
            "epoch 79 loss: 53.3776\n",
            "epoch 80 loss: 19.5063\n",
            "epoch 81 loss: 15.9188\n",
            "epoch 82 loss: 10.4343\n",
            "epoch 83 loss: 9.0095\n",
            "epoch 84 loss: 14.1140\n",
            "epoch 85 loss: 20.3079\n",
            "epoch 86 loss: 57.3897\n",
            "epoch 87 loss: 14.2231\n",
            "epoch 88 loss: 22.4314\n",
            "epoch 89 loss: 46.0664\n",
            "epoch 90 loss: 16.4662\n",
            "epoch 91 loss: 13.9726\n",
            "epoch 92 loss: 18.2441\n",
            "epoch 93 loss: 35.1496\n",
            "epoch 94 loss: 13.0377\n",
            "epoch 95 loss: 17.3390\n",
            "epoch 96 loss: 13.9408\n",
            "epoch 97 loss: 15.0741\n",
            "epoch 98 loss: 14.0407\n",
            "epoch 99 loss: 38.5100\n",
            "epoch 100 loss: 8.5048\n",
            "epoch 101 loss: 16.1525\n",
            "epoch 102 loss: 7.8986\n",
            "epoch 103 loss: 51.4577\n",
            "epoch 104 loss: 33.8713\n",
            "epoch 105 loss: 19.5853\n",
            "epoch 106 loss: 6.9136\n",
            "epoch 107 loss: 23.2608\n",
            "epoch 108 loss: 21.8346\n",
            "epoch 109 loss: 15.2809\n",
            "epoch 110 loss: 19.0864\n",
            "epoch 111 loss: 9.7634\n",
            "epoch 112 loss: 10.3743\n",
            "epoch 113 loss: 14.2365\n",
            "epoch 114 loss: 19.6773\n",
            "epoch 115 loss: 38.4809\n",
            "epoch 116 loss: 10.2775\n",
            "epoch 117 loss: 12.1740\n",
            "epoch 118 loss: 2.9066\n",
            "epoch 119 loss: 41.1760\n",
            "epoch 120 loss: 17.2657\n",
            "epoch 121 loss: 10.1685\n",
            "epoch 122 loss: 41.2451\n",
            "epoch 123 loss: 42.0580\n",
            "epoch 124 loss: 9.7362\n",
            "epoch 125 loss: 10.6345\n",
            "epoch 126 loss: 41.0840\n",
            "epoch 127 loss: 65.5931\n",
            "epoch 128 loss: 13.2883\n",
            "epoch 129 loss: 9.0492\n",
            "epoch 130 loss: 6.8770\n",
            "epoch 131 loss: 39.5104\n",
            "epoch 132 loss: 6.6561\n",
            "epoch 133 loss: 36.7068\n",
            "epoch 134 loss: 22.1665\n",
            "epoch 135 loss: 20.2184\n",
            "epoch 136 loss: 14.3471\n",
            "epoch 137 loss: 10.0290\n",
            "epoch 138 loss: 29.7156\n",
            "epoch 139 loss: 20.4669\n",
            "epoch 140 loss: 7.3195\n",
            "epoch 141 loss: 8.5320\n",
            "epoch 142 loss: 9.8439\n",
            "epoch 143 loss: 12.1623\n",
            "epoch 144 loss: 16.5393\n",
            "epoch 145 loss: 7.7170\n",
            "epoch 146 loss: 11.5678\n",
            "epoch 147 loss: 12.7209\n",
            "epoch 148 loss: 19.8990\n",
            "epoch 149 loss: 22.1836\n",
            "epoch 150 loss: 12.3941\n",
            "epoch 151 loss: 53.6039\n",
            "epoch 152 loss: 15.4166\n",
            "epoch 153 loss: 17.6985\n",
            "epoch 154 loss: 22.3066\n",
            "epoch 155 loss: 11.5462\n",
            "epoch 156 loss: 15.9305\n",
            "epoch 157 loss: 13.8117\n",
            "epoch 158 loss: 14.7847\n",
            "epoch 159 loss: 7.1267\n",
            "epoch 160 loss: 8.9074\n",
            "epoch 161 loss: 13.6860\n",
            "epoch 162 loss: 19.3550\n",
            "epoch 163 loss: 13.9857\n",
            "epoch 164 loss: 16.3020\n",
            "epoch 165 loss: 38.2988\n",
            "epoch 166 loss: 38.0853\n",
            "epoch 167 loss: 9.2686\n",
            "epoch 168 loss: 15.9441\n",
            "epoch 169 loss: 14.8877\n",
            "epoch 170 loss: 11.7280\n",
            "epoch 171 loss: 11.9046\n",
            "epoch 172 loss: 39.9872\n",
            "epoch 173 loss: 19.5601\n",
            "epoch 174 loss: 11.3468\n",
            "epoch 175 loss: 8.9853\n",
            "epoch 176 loss: 8.9300\n",
            "epoch 177 loss: 11.3309\n",
            "epoch 178 loss: 33.2498\n",
            "epoch 179 loss: 7.0820\n",
            "epoch 180 loss: 18.4056\n",
            "epoch 181 loss: 30.7942\n",
            "epoch 182 loss: 12.6139\n",
            "epoch 183 loss: 18.5970\n",
            "epoch 184 loss: 6.4719\n",
            "epoch 185 loss: 29.4020\n",
            "epoch 186 loss: 17.6839\n",
            "epoch 187 loss: 7.7311\n",
            "epoch 188 loss: 35.8344\n",
            "epoch 189 loss: 45.0761\n",
            "epoch 190 loss: 14.3374\n",
            "epoch 191 loss: 15.2644\n",
            "epoch 192 loss: 10.8794\n",
            "epoch 193 loss: 12.5627\n",
            "epoch 194 loss: 5.1000\n",
            "epoch 195 loss: 31.2779\n",
            "epoch 196 loss: 38.5033\n",
            "epoch 197 loss: 12.0662\n",
            "epoch 198 loss: 42.1622\n",
            "epoch 199 loss: 5.0424\n",
            "epoch 200 loss: 5.9777\n",
            "epoch 201 loss: 44.5889\n",
            "epoch 202 loss: 9.5919\n",
            "epoch 203 loss: 31.1590\n",
            "epoch 204 loss: 6.9956\n",
            "epoch 205 loss: 3.8236\n",
            "epoch 206 loss: 9.5356\n",
            "epoch 207 loss: 4.5566\n",
            "epoch 208 loss: 8.7431\n",
            "epoch 209 loss: 6.8264\n",
            "epoch 210 loss: 7.2332\n",
            "epoch 211 loss: 12.9993\n",
            "epoch 212 loss: 17.4983\n",
            "epoch 213 loss: 12.2203\n",
            "epoch 214 loss: 7.5747\n",
            "epoch 215 loss: 13.1612\n",
            "epoch 216 loss: 7.9107\n",
            "epoch 217 loss: 11.9764\n",
            "epoch 218 loss: 16.4450\n",
            "epoch 219 loss: 34.1046\n",
            "epoch 220 loss: 6.7580\n",
            "epoch 221 loss: 10.0174\n",
            "epoch 222 loss: 5.2214\n",
            "epoch 223 loss: 6.7773\n",
            "epoch 224 loss: 10.2231\n",
            "epoch 225 loss: 8.8403\n",
            "epoch 226 loss: 5.4909\n",
            "epoch 227 loss: 8.6537\n",
            "epoch 228 loss: 68.8392\n",
            "epoch 229 loss: 12.2012\n",
            "epoch 230 loss: 46.1857\n",
            "epoch 231 loss: 12.8488\n",
            "epoch 232 loss: 7.9534\n",
            "epoch 233 loss: 10.4046\n",
            "epoch 234 loss: 13.8177\n",
            "epoch 235 loss: 7.2318\n",
            "epoch 236 loss: 8.9430\n",
            "epoch 237 loss: 7.7364\n",
            "epoch 238 loss: 6.5929\n",
            "epoch 239 loss: 2.9936\n",
            "epoch 240 loss: 23.6168\n",
            "epoch 241 loss: 7.0570\n",
            "epoch 242 loss: 4.8492\n",
            "epoch 243 loss: 6.2213\n",
            "epoch 244 loss: 8.2141\n",
            "epoch 245 loss: 34.3097\n",
            "epoch 246 loss: 10.7088\n",
            "epoch 247 loss: 13.4297\n",
            "epoch 248 loss: 31.2591\n",
            "epoch 249 loss: 6.3958\n",
            "epoch 250 loss: 8.0529\n",
            "epoch 251 loss: 7.1273\n",
            "epoch 252 loss: 6.1489\n",
            "epoch 253 loss: 17.2813\n",
            "epoch 254 loss: 8.1263\n",
            "epoch 255 loss: 29.9642\n",
            "epoch 256 loss: 11.1474\n",
            "epoch 257 loss: 7.2037\n",
            "epoch 258 loss: 8.0676\n",
            "epoch 259 loss: 11.4638\n",
            "epoch 260 loss: 5.8113\n",
            "epoch 261 loss: 3.2234\n",
            "epoch 262 loss: 9.6098\n",
            "epoch 263 loss: 13.3966\n",
            "epoch 264 loss: 7.6836\n",
            "epoch 265 loss: 10.0153\n",
            "epoch 266 loss: 12.9520\n",
            "epoch 267 loss: 8.6703\n",
            "epoch 268 loss: 37.3684\n",
            "epoch 269 loss: 6.2320\n",
            "epoch 270 loss: 10.4327\n",
            "epoch 271 loss: 6.9333\n",
            "epoch 272 loss: 5.3443\n",
            "epoch 273 loss: 11.6682\n",
            "epoch 274 loss: 14.4457\n",
            "epoch 275 loss: 6.4919\n",
            "epoch 276 loss: 5.9747\n",
            "epoch 277 loss: 30.3103\n",
            "epoch 278 loss: 5.0459\n",
            "epoch 279 loss: 8.6131\n",
            "epoch 280 loss: 5.1527\n",
            "epoch 281 loss: 6.3009\n",
            "epoch 282 loss: 12.8576\n",
            "epoch 283 loss: 7.8920\n",
            "epoch 284 loss: 14.1201\n",
            "epoch 285 loss: 12.3235\n",
            "epoch 286 loss: 5.7194\n",
            "epoch 287 loss: 13.3561\n",
            "epoch 288 loss: 6.9740\n",
            "epoch 289 loss: 12.4412\n",
            "epoch 290 loss: 29.5324\n",
            "epoch 291 loss: 5.7415\n",
            "epoch 292 loss: 8.8270\n",
            "epoch 293 loss: 7.7402\n",
            "epoch 294 loss: 10.8785\n",
            "epoch 295 loss: 6.1223\n",
            "epoch 296 loss: 6.0999\n",
            "epoch 297 loss: 8.0292\n",
            "epoch 298 loss: 2.8605\n",
            "epoch 299 loss: 6.8388\n",
            "epoch 300 loss: 8.6136\n"
          ],
          "name": "stdout"
        }
      ]
    },
    {
      "cell_type": "code",
      "metadata": {
        "colab": {
          "base_uri": "https://localhost:8080/"
        },
        "id": "iOE5NMoizu1A",
        "outputId": "96bc4589-6968-4e1a-b66c-aa1b81d0103f"
      },
      "source": [
        "print(criterion(model(X_test_ts.to(device)), y_test_ts.to(device)).item())"
      ],
      "execution_count": 16,
      "outputs": [
        {
          "output_type": "stream",
          "text": [
            "10.723152160644531\n"
          ],
          "name": "stdout"
        }
      ]
    },
    {
      "cell_type": "code",
      "metadata": {
        "colab": {
          "base_uri": "https://localhost:8080/",
          "height": 296
        },
        "id": "Vd3fCohvzu1B",
        "outputId": "ca95888c-cae2-4456-b6cc-5b86f2fe2eff"
      },
      "source": [
        "plt.plot(Loss)\r\n",
        "plt.xlabel(\"epochs\")\r\n",
        "plt.ylabel(\"MSE loss\")"
      ],
      "execution_count": 17,
      "outputs": [
        {
          "output_type": "execute_result",
          "data": {
            "text/plain": [
              "Text(0, 0.5, 'MSE loss')"
            ]
          },
          "metadata": {
            "tags": []
          },
          "execution_count": 17
        },
        {
          "output_type": "display_data",
          "data": {
            "image/png": "[encoded data removed]",
            "text/plain": [
              "<Figure size 432x288 with 1 Axes>"
            ]
          },
          "metadata": {
            "tags": [],
            "needs_background": "light"
          }
        }
      ]
    },
    {
      "cell_type": "code",
      "metadata": {
        "id": "DvF0zWTpzu1B"
      },
      "source": [
        "y_pred = model(X_test_ts.to(device))"
      ],
      "execution_count": 18,
      "outputs": []
    },
    {
      "cell_type": "code",
      "metadata": {
        "id": "RF8E7SYMzu1B"
      },
      "source": [
        "y_pred = y_pred.cpu().detach().numpy()"
      ],
      "execution_count": 19,
      "outputs": []
    },
    {
      "cell_type": "code",
      "metadata": {
        "colab": {
          "base_uri": "https://localhost:8080/"
        },
        "id": "pnnhqLRkzu1B",
        "outputId": "29b1dd27-c596-4e0c-e5c3-571676853fcc"
      },
      "source": [
        "from sklearn.metrics import r2_score\n",
        "\n",
        "print(r2_score(y_test, y_pred))"
      ],
      "execution_count": 22,
      "outputs": [
        {
          "output_type": "stream",
          "text": [
            "0.8599367797851067\n"
          ],
          "name": "stdout"
        }
      ]
    },
    {
      "cell_type": "code",
      "metadata": {
        "colab": {
          "base_uri": "https://localhost:8080/",
          "height": 313
        },
        "id": "prTdEnSKzu1C",
        "outputId": "ae9a4a4e-d35e-4a57-c53b-a9d8b2be45c7"
      },
      "source": [
        "plt.scatter(y_test, y_pred)\n",
        "plt.plot([y_test.min(), y_test.max()], [y_test.min(), y_test.max()], '--', c='r')\n",
        "plt.xlabel('y_test')\n",
        "plt.ylabel('y_pred')\n",
        "plt.title('Boston House Price Prediction ($1,000)')"
      ],
      "execution_count": 23,
      "outputs": [
        {
          "output_type": "execute_result",
          "data": {
            "text/plain": [
              "Text(0.5, 1.0, 'Boston House Price Prediction ($1,000)')"
            ]
          },
          "metadata": {
            "tags": []
          },
          "execution_count": 23
        },
        {
          "output_type": "display_data",
          "data": {
            "image/png": "[encoded data removed]",
            "text/plain": [
              "<Figure size 432x288 with 1 Axes>"
            ]
          },
          "metadata": {
            "tags": [],
            "needs_background": "light"
          }
        }
      ]
    }
  ]
}