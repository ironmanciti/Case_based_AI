{
 "cells": [
  {
   "cell_type": "markdown",
   "metadata": {
    "id": "yJLhXD_zlp1A"
   },
   "source": [
    "# 125. Sentiment Analysis with an RNN\n",
    "\n",
    "### Network Architecture\n",
    "\n",
    "<img src=\"network_diagram.png\" width=30%>"
   ]
  },
  {
   "cell_type": "code",
   "execution_count": 1,
   "metadata": {
    "colab": {
     "base_uri": "https://localhost:8080/",
     "height": 0
    },
    "id": "CjIOjzxNy0zW",
    "outputId": "e07fbd9c-2505-47e0-ac2d-fb32602cd3af"
   },
   "outputs": [
    {
     "data": {
      "text/plain": [
       "device(type='cuda', index=0)"
      ]
     },
     "execution_count": 1,
     "metadata": {
      "tags": []
     },
     "output_type": "execute_result"
    }
   ],
   "source": [
    "import torch\n",
    "import numpy as np\n",
    "from torchtext import data\n",
    "from torchtext.data import TabularDataset\n",
    "from torchtext.data import Iterator\n",
    "import urllib.request as request\n",
    "import pandas as pd\n",
    "\n",
    "device = torch.device(\"cuda:0\" if torch.cuda.is_available() else \"cpu\")\n",
    "device"
   ]
  },
  {
   "cell_type": "markdown",
   "metadata": {
    "id": "Se1bvKM9y0zY"
   },
   "source": [
    "### 실습 data IMBD download"
   ]
  },
  {
   "cell_type": "code",
   "execution_count": 5,
   "metadata": {
    "colab": {
     "base_uri": "https://localhost:8080/",
     "height": 0
    },
    "id": "CSl2gx-Gy0zZ",
    "outputId": "0967c893-8c15-43b9-aabd-76c37270ee67"
   },
   "outputs": [
    {
     "data": {
      "text/plain": [
       "('./sample_data/IMBD_review.csv', <http.client.HTTPMessage at 0x7f5b4e682a90>)"
      ]
     },
     "execution_count": 5,
     "metadata": {
      "tags": []
     },
     "output_type": "execute_result"
    }
   ],
   "source": [
    "request.urlretrieve(\n",
    "    'https://raw.github.com/LawrenceDuan/IMDb-Review-Analysis/master/IMDb_Reviews.csv',\n",
    "    filename='./sample_data/IMBD_review.csv')"
   ]
  },
  {
   "cell_type": "code",
   "execution_count": 6,
   "metadata": {
    "colab": {
     "base_uri": "https://localhost:8080/",
     "height": 160
    },
    "id": "oID0Mx2ky0zZ",
    "outputId": "419e32b3-ade2-4e32-bc2c-e267ea851d8f"
   },
   "outputs": [
    {
     "data": {
      "text/html": [
       "<div>\n",
       "<style scoped>\n",
       "    .dataframe tbody tr th:only-of-type {\n",
       "        vertical-align: middle;\n",
       "    }\n",
       "\n",
       "    .dataframe tbody tr th {\n",
       "        vertical-align: top;\n",
       "    }\n",
       "\n",
       "    .dataframe thead th {\n",
       "        text-align: right;\n",
       "    }\n",
       "</style>\n",
       "<table border=\"1\" class=\"dataframe\">\n",
       "  <thead>\n",
       "    <tr style=\"text-align: right;\">\n",
       "      <th></th>\n",
       "      <th>review</th>\n",
       "      <th>sentiment</th>\n",
       "    </tr>\n",
       "  </thead>\n",
       "  <tbody>\n",
       "    <tr>\n",
       "      <th>0</th>\n",
       "      <td>My family and I normally do not watch local movies for the simple reason that they are poorly made, they lack the depth, and just not worth our time.&lt;br /&gt;&lt;br /&gt;The trailer of \"Nasaan ka man\" caught my attention, my daughter in law's and daughter's so we took time out to watch it this afternoon. The movie exceeded our expectations. The cinematography was very good, the story beautiful and the ...</td>\n",
       "      <td>1</td>\n",
       "    </tr>\n",
       "    <tr>\n",
       "      <th>1</th>\n",
       "      <td>Believe it or not, this was at one time the worst movie I had ever seen. Since that time, I have seen many more movies that are worse (how is it possible??) Therefore, to be fair, I had to give this movie a 2 out of 10. But it was a tough call.</td>\n",
       "      <td>0</td>\n",
       "    </tr>\n",
       "  </tbody>\n",
       "</table>\n",
       "</div>"
      ],
      "text/plain": [
       "                                                                                                                                                                                                                                                                                                                                                                                                            review  sentiment\n",
       "0  My family and I normally do not watch local movies for the simple reason that they are poorly made, they lack the depth, and just not worth our time.<br /><br />The trailer of \"Nasaan ka man\" caught my attention, my daughter in law's and daughter's so we took time out to watch it this afternoon. The movie exceeded our expectations. The cinematography was very good, the story beautiful and the ...          1\n",
       "1                                                                                                                                                             Believe it or not, this was at one time the worst movie I had ever seen. Since that time, I have seen many more movies that are worse (how is it possible??) Therefore, to be fair, I had to give this movie a 2 out of 10. But it was a tough call.          0"
      ]
     },
     "execution_count": 6,
     "metadata": {
      "tags": []
     },
     "output_type": "execute_result"
    }
   ],
   "source": [
    "pd.set_option('max_colwidth', 400)\n",
    "\n",
    "df = pd.read_csv('sample_data/IMBD_review.csv')\n",
    "df.head(2)"
   ]
  },
  {
   "cell_type": "code",
   "execution_count": 7,
   "metadata": {
    "colab": {
     "base_uri": "https://localhost:8080/",
     "height": 0
    },
    "id": "af0dIuzIy0zZ",
    "outputId": "9f3252a6-ed48-4a60-d7bf-3e651fbf54d6"
   },
   "outputs": [
    {
     "data": {
      "text/plain": [
       "(50000, 2)"
      ]
     },
     "execution_count": 7,
     "metadata": {
      "tags": []
     },
     "output_type": "execute_result"
    }
   ],
   "source": [
    "df.shape"
   ]
  },
  {
   "cell_type": "markdown",
   "metadata": {
    "id": "UeoOsfABy0za"
   },
   "source": [
    "### Data Preprocessing\n",
    "- 구두점과 줄바꿈 (\\\\n, ``<br />``)을 없앤다  "
   ]
  },
  {
   "cell_type": "code",
   "execution_count": 8,
   "metadata": {
    "colab": {
     "base_uri": "https://localhost:8080/",
     "height": 35
    },
    "id": "ZV6_vFlby0za",
    "outputId": "6026456b-9674-46c1-e00d-b29a893090a9"
   },
   "outputs": [
    {
     "data": {
      "application/vnd.google.colaboratory.intrinsic+json": {
       "type": "string"
      },
      "text/plain": [
       "'!\"#$%&\\'()*+,-./:;<=>?@[\\\\]^_`{|}~'"
      ]
     },
     "execution_count": 8,
     "metadata": {
      "tags": []
     },
     "output_type": "execute_result"
    }
   ],
   "source": [
    "from string import punctuation\n",
    "punctuation"
   ]
  },
  {
   "cell_type": "code",
   "execution_count": 9,
   "metadata": {
    "colab": {
     "base_uri": "https://localhost:8080/",
     "height": 160
    },
    "id": "i5uEFWLPy0za",
    "outputId": "60318cd4-1775-449e-b1a4-91725d26a057"
   },
   "outputs": [
    {
     "data": {
      "text/html": [
       "<div>\n",
       "<style scoped>\n",
       "    .dataframe tbody tr th:only-of-type {\n",
       "        vertical-align: middle;\n",
       "    }\n",
       "\n",
       "    .dataframe tbody tr th {\n",
       "        vertical-align: top;\n",
       "    }\n",
       "\n",
       "    .dataframe thead th {\n",
       "        text-align: right;\n",
       "    }\n",
       "</style>\n",
       "<table border=\"1\" class=\"dataframe\">\n",
       "  <thead>\n",
       "    <tr style=\"text-align: right;\">\n",
       "      <th></th>\n",
       "      <th>review</th>\n",
       "      <th>sentiment</th>\n",
       "    </tr>\n",
       "  </thead>\n",
       "  <tbody>\n",
       "    <tr>\n",
       "      <th>0</th>\n",
       "      <td>my family and i normally do not watch local movies for the simple reason that they are poorly made they lack the depth and just not worth our time  the trailer of nasaan ka man caught my attention my daughter in laws and daughters so we took time out to watch it this afternoon the movie exceeded our expectations the cinematography was very good the story beautiful and the acting awesome jerich...</td>\n",
       "      <td>1</td>\n",
       "    </tr>\n",
       "    <tr>\n",
       "      <th>1</th>\n",
       "      <td>believe it or not this was at one time the worst movie i had ever seen since that time i have seen many more movies that are worse how is it possible therefore to be fair i had to give this movie a 2 out of 10 but it was a tough call</td>\n",
       "      <td>0</td>\n",
       "    </tr>\n",
       "  </tbody>\n",
       "</table>\n",
       "</div>"
      ],
      "text/plain": [
       "                                                                                                                                                                                                                                                                                                                                                                                                            review  sentiment\n",
       "0  my family and i normally do not watch local movies for the simple reason that they are poorly made they lack the depth and just not worth our time  the trailer of nasaan ka man caught my attention my daughter in laws and daughters so we took time out to watch it this afternoon the movie exceeded our expectations the cinematography was very good the story beautiful and the acting awesome jerich...          1\n",
       "1                                                                                                                                                                        believe it or not this was at one time the worst movie i had ever seen since that time i have seen many more movies that are worse how is it possible therefore to be fair i had to give this movie a 2 out of 10 but it was a tough call          0"
      ]
     },
     "execution_count": 9,
     "metadata": {
      "tags": []
     },
     "output_type": "execute_result"
    }
   ],
   "source": [
    "def preprocess(s):\n",
    "    s = s.lower()\n",
    "    s = s.replace('<br', '')\n",
    "    s = s.replace('/>', '')\n",
    "    s = s.replace('\\n', '')\n",
    "    s = ''.join(c for c in s if c not in punctuation)\n",
    "    return s\n",
    "\n",
    "df['review'] = df['review'].apply(preprocess)\n",
    "df.head(2)"
   ]
  },
  {
   "cell_type": "markdown",
   "metadata": {
    "id": "vKaAcodFy0zb"
   },
   "source": [
    "### sentence의 길이 시각화 및 MAX_LENGTH 지정"
   ]
  },
  {
   "cell_type": "code",
   "execution_count": 10,
   "metadata": {
    "colab": {
     "base_uri": "https://localhost:8080/",
     "height": 265
    },
    "id": "KiN671awy0zb",
    "outputId": "d3b3cbc3-8ab6-4109-88ea-0cb56036d570"
   },
   "outputs": [
    {
     "data": {
      "image/png": "[encoded data removed]",
      "text/plain": [
       "<Figure size 432x288 with 1 Axes>"
      ]
     },
     "metadata": {
      "needs_background": "light",
      "tags": []
     },
     "output_type": "display_data"
    }
   ],
   "source": [
    "import matplotlib.pyplot as plt\n",
    "\n",
    "plt.hist([len(x) for x in df['review'].values], bins=50)\n",
    "None"
   ]
  },
  {
   "cell_type": "code",
   "execution_count": 11,
   "metadata": {
    "id": "fjZyOKNqy0zc"
   },
   "outputs": [],
   "source": [
    "MAX_LENGTH = 200"
   ]
  },
  {
   "cell_type": "markdown",
   "metadata": {
    "id": "0VAzKvyNy0zc"
   },
   "source": [
    "### Train / Test dataset 으로 분리하여 저장"
   ]
  },
  {
   "cell_type": "code",
   "execution_count": 12,
   "metadata": {
    "id": "f0xs9F_zy0zc"
   },
   "outputs": [],
   "source": [
    "DATA_SIZE = 25000"
   ]
  },
  {
   "cell_type": "code",
   "execution_count": 14,
   "metadata": {
    "id": "Z5CDM1H2y0zc"
   },
   "outputs": [],
   "source": [
    "train_df = df[:DATA_SIZE]\n",
    "test_df = df[-DATA_SIZE:]\n",
    "\n",
    "train_df.to_csv('sample_data/train_data.csv', header=False, index=False)\n",
    "test_df.to_csv('sample_data/test_data.csv', header=False, index=False)"
   ]
  },
  {
   "cell_type": "markdown",
   "metadata": {
    "id": "NcFje9eRlp1B"
   },
   "source": [
    "### Field 정의\n",
    "\n",
    "- torchtext.data.Field 함수 이용 \n",
    "    - sequential: TEXT 는 순서가 있는 (sequential) 데이터이기 때문에 True, LABEL 데이터는 순서가 필요없기 때문에 False\n",
    "    - use_vocab: 단어장(Vocab) 객체를 사용할지의 여부. 텍스트가 데이터있는 TEXT 만 True 로 정의\n",
    "    - tokenize: 단어의 토크나이징을 맡아줄 함수. 한국어의 경우 보통 konlpy 의 토크나이징 함수들을 사용\n",
    "    - lower: 소문자 전환 여부 입니다. 영어는 보통 True. \n",
    "    - batch_first: tensor 의 shape이 (B, 문장의 최대 길이) 로 만들어진다.\n",
    "    - preprocessing: 전처리는 토큰화 후, 수치화하기 전 사이에서 작동\n",
    "    \n",
    "    \n",
    "- TabularDataset 에 Field 적용\n",
    "    - fields: 리스트 형태로 [('필드이름(임의지정)', Field object), ('필드이름(임의지정)', Field object)]\n",
    "\n",
    "\n",
    "- 단어장 TEXT.vocab은 train_data 만으로 만든다.\n",
    "    - use_vocab=True\n",
    "    - TEXT.build_vocab(train_data)\n",
    "    - <unk> : 0\n",
    "    - <pad> : 1\n",
    "    - TEXT.vocab.stoi : 단어 index\n",
    "    - TEXT.vocab.itos : 단어 list"
   ]
  },
  {
   "cell_type": "code",
   "execution_count": 16,
   "metadata": {
    "id": "onHNFp4_y0zd"
   },
   "outputs": [],
   "source": [
    "# set up fields\n",
    "TEXT = data.Field(sequential=True,\n",
    "                  use_vocab=True,\n",
    "                  tokenize=str.split,\n",
    "                  fix_length=MAX_LENGTH)\n",
    "LABEL = data.Field(sequential=False,\n",
    "                  use_vocab=False,\n",
    "                  dtype=torch.float) #for BCEWithLogitsLoss \n",
    "\n",
    "train_data = TabularDataset(\n",
    "                path='./sample_data/train_data.csv', \n",
    "                format='csv', \n",
    "                fields=[('text', TEXT), ('label', LABEL)])\n",
    "test_data = TabularDataset(\n",
    "                path='./sample_data/test_data.csv',\n",
    "                format='csv',\n",
    "                fields=[('text', TEXT), ('label', LABEL)]\n",
    "                )"
   ]
  },
  {
   "cell_type": "markdown",
   "metadata": {
    "id": "nHzoItyly0zd"
   },
   "source": [
    "- vars 내장 함수를 이용하여 data 출력"
   ]
  },
  {
   "cell_type": "code",
   "execution_count": 17,
   "metadata": {
    "colab": {
     "base_uri": "https://localhost:8080/",
     "height": 0
    },
    "id": "rFpiC8loy0zd",
    "outputId": "d1e6a4d8-fda9-4a01-80bc-2f468a3894a3"
   },
   "outputs": [
    {
     "name": "stdout",
     "output_type": "stream",
     "text": [
      "{'text': ['my', 'family', 'and', 'i', 'normally', 'do', 'not', 'watch', 'local', 'movies', 'for', 'the', 'simple', 'reason', 'that', 'they', 'are', 'poorly', 'made', 'they', 'lack', 'the', 'depth', 'and', 'just', 'not', 'worth', 'our', 'time', 'the', 'trailer', 'of', 'nasaan', 'ka', 'man', 'caught', 'my', 'attention', 'my', 'daughter', 'in', 'laws', 'and', 'daughters', 'so', 'we', 'took', 'time', 'out', 'to', 'watch', 'it', 'this', 'afternoon', 'the', 'movie', 'exceeded', 'our', 'expectations', 'the', 'cinematography', 'was', 'very', 'good', 'the', 'story', 'beautiful', 'and', 'the', 'acting', 'awesome', 'jericho', 'rosales', 'was', 'really', 'very', 'good', 'sos', 'claudine', 'barretto', 'the', 'fact', 'that', 'i', 'despised', 'diether', 'ocampo', 'proves', 'he', 'was', 'effective', 'at', 'his', 'role', 'i', 'have', 'never', 'been', 'this', 'touched', 'moved', 'and', 'affected', 'by', 'a', 'local', 'movie', 'before', 'imagine', 'a', 'cynic', 'like', 'me', 'dabbing', 'my', 'eyes', 'at', 'the', 'end', 'of', 'the', 'movie', 'congratulations', 'to', 'star', 'cinema', 'way', 'to', 'go', 'jericho', 'and', 'claudine'], 'label': '1'}\n"
     ]
    }
   ],
   "source": [
    "print(vars(train_data[0]))"
   ]
  },
  {
   "cell_type": "markdown",
   "metadata": {
    "id": "ILbicM_Zy0ze"
   },
   "source": [
    "### 단어장 생성"
   ]
  },
  {
   "cell_type": "code",
   "execution_count": 18,
   "metadata": {
    "id": "qivrF7HGy0ze"
   },
   "outputs": [],
   "source": [
    "TEXT.build_vocab(train_data, max_size=50000)"
   ]
  },
  {
   "cell_type": "code",
   "execution_count": 19,
   "metadata": {
    "colab": {
     "base_uri": "https://localhost:8080/",
     "height": 0
    },
    "id": "m9U5nJjJy0ze",
    "outputId": "7f274477-0da5-47c4-bfe0-d0216155ee7b"
   },
   "outputs": [
    {
     "data": {
      "text/plain": [
       "[('<unk>', 0), ('<pad>', 1), ('the', 2), ('and', 3), ('a', 4)]"
      ]
     },
     "execution_count": 19,
     "metadata": {
      "tags": []
     },
     "output_type": "execute_result"
    }
   ],
   "source": [
    "list(TEXT.vocab.stoi.items())[:5]"
   ]
  },
  {
   "cell_type": "code",
   "execution_count": 20,
   "metadata": {
    "colab": {
     "base_uri": "https://localhost:8080/",
     "height": 0
    },
    "id": "ozPDX19_y0ze",
    "outputId": "ee4bf131-b4c4-461d-a1a2-30d89067e8a3"
   },
   "outputs": [
    {
     "data": {
      "text/plain": [
       "['<unk>', '<pad>', 'the', 'and', 'a']"
      ]
     },
     "execution_count": 20,
     "metadata": {
      "tags": []
     },
     "output_type": "execute_result"
    }
   ],
   "source": [
    "TEXT.vocab.itos[:5]"
   ]
  },
  {
   "cell_type": "markdown",
   "metadata": {
    "id": "j8a_Ogovy0zf"
   },
   "source": [
    "## Data Loader 생성\n",
    "- padding은 자동으로 해준다"
   ]
  },
  {
   "cell_type": "code",
   "execution_count": 21,
   "metadata": {
    "id": "wLa9f9-ky0zf"
   },
   "outputs": [],
   "source": [
    "BATCH_SIZE = 30\n",
    "\n",
    "train_loader = Iterator(train_data,\n",
    "                       batch_size=BATCH_SIZE,\n",
    "                       device=device)\n",
    "test_loader = Iterator(test_data,\n",
    "                      batch_size=BATCH_SIZE,\n",
    "                      device=device)"
   ]
  },
  {
   "cell_type": "markdown",
   "metadata": {
    "id": "SFRp4ah-lp1t"
   },
   "source": [
    "---\n",
    "# Build the Model\n",
    "- 다음의 layer로 구성\n",
    "\n",
    "    1. 임베딩 레이어\n",
    "    2. LSTM 레이어\n",
    "    3. LSTM 계층 출력을 원하는 output_size에 매핑하는 fully-connected output layer\n",
    "    4. 모든 출력을 0-1 값으로 바꾸는 sigmoid activation layer"
   ]
  },
  {
   "cell_type": "code",
   "execution_count": 22,
   "metadata": {
    "id": "PNMW4McVlp1v"
   },
   "outputs": [],
   "source": [
    "import torch.nn as nn\n",
    "\n",
    "class SentimentRNN(nn.Module):\n",
    "    def __init__(self, vocab_size, embedding_dim, hidden_dim, \n",
    "                 output_dim, n_layers, drop_out=0.3):\n",
    "        super(SentimentRNN, self).__init__()\n",
    "        \n",
    "        # embedding and LSTM layers\n",
    "        self.embed = nn.Embedding(vocab_size, embedding_dim)\n",
    "        \n",
    "        self.lstm = nn.LSTM(embedding_dim, hidden_dim, n_layers, \n",
    "                            dropout=drop_out)\n",
    "        \n",
    "        self.fc = nn.Linear(hidden_dim*n_layers, output_dim)\n",
    "\n",
    "        self.drop = nn.Dropout(drop_out)   \n",
    "\n",
    "    def forward(self, x):\n",
    "        #x:[200,3](seq,batch)\n",
    "        x = self.drop(self.embed(x))\n",
    "        \n",
    "        #out:[200, 3, 256](seq, batch, hidden)\n",
    "        #h,c:[2, 3, 256](layer, batch, hidden)\n",
    "        out, (h, c) = self.lstm(x) \n",
    "        \n",
    "        #h:[3, 512](batch, hidden*layer)\n",
    "        h = self.drop(torch.cat((h[-2,:,:], h[-1,:,:]), dim=1))\n",
    "        #out:[3, 1](batch,outdim)\n",
    "        out = self.fc(h.squeeze(0))\n",
    "        return out"
   ]
  },
  {
   "cell_type": "markdown",
   "metadata": {
    "id": "YKlcz0Atlp1x"
   },
   "source": [
    "## Instantiate the network"
   ]
  },
  {
   "cell_type": "code",
   "execution_count": 23,
   "metadata": {
    "colab": {
     "base_uri": "https://localhost:8080/",
     "height": 0
    },
    "id": "goj3maV6lp1x",
    "outputId": "0c74b70a-d783-4eed-f82f-a38b7d5f5fff"
   },
   "outputs": [
    {
     "name": "stdout",
     "output_type": "stream",
     "text": [
      "SentimentRNN(\n",
      "  (embed): Embedding(50002, 400)\n",
      "  (lstm): LSTM(400, 256, num_layers=2, dropout=0.3)\n",
      "  (fc): Linear(in_features=512, out_features=1, bias=True)\n",
      "  (drop): Dropout(p=0.3, inplace=False)\n",
      ")\n"
     ]
    }
   ],
   "source": [
    "vocab_size = len(TEXT.vocab)\n",
    "output_size = 1\n",
    "embedding_dim = 400\n",
    "hidden_dim = 256\n",
    "n_layers = 2\n",
    "\n",
    "model = SentimentRNN(vocab_size, embedding_dim, hidden_dim, output_size, n_layers).to(device)\n",
    "\n",
    "print(model)"
   ]
  },
  {
   "cell_type": "markdown",
   "metadata": {
    "id": "pubcvw2Ylp1z"
   },
   "source": [
    "## Training\n",
    "\n",
    "- BCEWithLogitsLoss : Sigmoid + BCELoss"
   ]
  },
  {
   "cell_type": "code",
   "execution_count": 24,
   "metadata": {
    "id": "oxaSarGQlp1z"
   },
   "outputs": [],
   "source": [
    "# loss and optimization functions\n",
    "lr=0.001\n",
    "\n",
    "criterion = nn.BCEWithLogitsLoss()\n",
    "optimizer = torch.optim.Adam(model.parameters(), lr=lr)"
   ]
  },
  {
   "cell_type": "code",
   "execution_count": 25,
   "metadata": {
    "colab": {
     "base_uri": "https://localhost:8080/",
     "height": 0
    },
    "id": "pZChoAeMy0zg",
    "outputId": "d567f973-7274-4853-cfc3-70fb3fe4256c"
   },
   "outputs": [
    {
     "name": "stdout",
     "output_type": "stream",
     "text": [
      "torch.float32\n"
     ]
    }
   ],
   "source": [
    "for batch in train_loader:\n",
    "    print(batch.label.dtype)\n",
    "    break"
   ]
  },
  {
   "cell_type": "code",
   "execution_count": 26,
   "metadata": {
    "colab": {
     "base_uri": "https://localhost:8080/",
     "height": 0
    },
    "id": "LEBL3tcFlp11",
    "outputId": "927b007b-075a-451a-9783-c02f6e9af394"
   },
   "outputs": [
    {
     "name": "stdout",
     "output_type": "stream",
     "text": [
      "Epoch: 1/5... Train Loss: 0.692892... Train Acc: 0.520064... Val Loss: 0.6822 Val Acc: 0.5572\n",
      "Epoch: 2/5... Train Loss: 0.672706... Train Acc: 0.569465... Val Loss: 0.5782 Val Acc: 0.7327\n",
      "Epoch: 3/5... Train Loss: 0.506230... Train Acc: 0.758472... Val Loss: 0.4233 Val Acc: 0.8130\n",
      "Epoch: 4/5... Train Loss: 0.342711... Train Acc: 0.855714... Val Loss: 0.3787 Val Acc: 0.8446\n",
      "Epoch: 5/5... Train Loss: 0.251304... Train Acc: 0.900879... Val Loss: 0.3669 Val Acc: 0.8600\n"
     ]
    }
   ],
   "source": [
    "# training params\n",
    "\n",
    "epochs = 5 \n",
    "\n",
    "# train for some number of epochs\n",
    "for epoch in range(epochs):\n",
    "    \n",
    "    model.train()\n",
    "    train_loss = 0\n",
    "    train_acc = 0\n",
    "    for batch in train_loader:\n",
    "        \n",
    "        optimizer.zero_grad()\n",
    "        z = model(batch.text).squeeze(1)\n",
    "\n",
    "        loss = criterion(z, batch.label)\n",
    "        \n",
    "        loss.backward()\n",
    "        optimizer.step()\n",
    "        \n",
    "        train_loss += loss\n",
    "        correct = (torch.round(torch.sigmoid(z)) == batch.label).float().mean()\n",
    "        train_acc += correct\n",
    "    \n",
    "    model.eval()\n",
    "    val_loss = 0\n",
    "    val_acc = 0\n",
    "    with torch.no_grad():\n",
    "        for batch in test_loader:\n",
    "            z = model(batch.text).squeeze(1)\n",
    "\n",
    "            loss = criterion(z, batch.label)\n",
    "        \n",
    "            val_loss += loss\n",
    "            correct = (torch.round(torch.sigmoid(z)) == batch.label).float().mean()\n",
    "            val_acc += correct\n",
    "        \n",
    "    print(\"Epoch: {}/{}...\".format(epoch+1, epochs),\n",
    "          \"Train Loss: {:.6f}...\".format(train_loss/len(train_loader)),\n",
    "          \"Train Acc: {:.6f}...\".format(train_acc/len(train_loader)),\n",
    "          \"Val Loss: {:.4f}\".format(val_loss/len(test_loader)),\n",
    "          \"Val Acc: {:.4f}\".format(val_acc/len(test_loader)))"
   ]
  },
  {
   "cell_type": "markdown",
   "metadata": {
    "id": "gIlm2t4ilp13"
   },
   "source": [
    "---\n",
    "## Testing"
   ]
  },
  {
   "cell_type": "markdown",
   "metadata": {
    "id": "copguZMtlp15"
   },
   "source": [
    "### Inference on a test review"
   ]
  },
  {
   "cell_type": "code",
   "execution_count": 38,
   "metadata": {
    "id": "DFzg-Js6lp15"
   },
   "outputs": [],
   "source": [
    "# negative test review\n",
    "test_review = 'The worst movie I have seen; acting was terrible and I want my money back. This movie had bad acting and the dialogue was slow.'\n",
    "# positive test review\n",
    "test_review = 'This movie had the best acting and the dialogue was so good. I loved it.'"
   ]
  },
  {
   "cell_type": "code",
   "execution_count": 39,
   "metadata": {
    "colab": {
     "base_uri": "https://localhost:8080/",
     "height": 0
    },
    "id": "cjOmZPBEt0Z2",
    "outputId": "822b00ac-3f51-40f1-99dd-416adf179f3b"
   },
   "outputs": [
    {
     "data": {
      "text/plain": [
       "['this', 'movie', 'had', 'the', 'best']"
      ]
     },
     "execution_count": 39,
     "metadata": {
      "tags": []
     },
     "output_type": "execute_result"
    }
   ],
   "source": [
    "# get rid of punctuation\n",
    "reviews = test_review.lower() # lowercase, standardize\n",
    "reviews = ''.join([c for c in reviews if c not in punctuation])\n",
    "\n",
    "# split by new lines and spaces\n",
    "tokenized = reviews.split()\n",
    "tokenized[:5]"
   ]
  },
  {
   "cell_type": "code",
   "execution_count": 40,
   "metadata": {
    "colab": {
     "base_uri": "https://localhost:8080/",
     "height": 0
    },
    "id": "eOZGbdsey0zi",
    "outputId": "a1ed0ca4-b5dd-40cc-b981-395b48b51b34"
   },
   "outputs": [
    {
     "data": {
      "text/plain": [
       "[11, 17, 68, 2, 115]"
      ]
     },
     "execution_count": 40,
     "metadata": {
      "tags": []
     },
     "output_type": "execute_result"
    }
   ],
   "source": [
    "indexed = [TEXT.vocab.stoi[t] for t in tokenized]\n",
    "indexed[:5]"
   ]
  },
  {
   "cell_type": "code",
   "execution_count": 41,
   "metadata": {
    "colab": {
     "base_uri": "https://localhost:8080/",
     "height": 0
    },
    "id": "w1C7mJoXy0zj",
    "outputId": "d0ea18d4-ccac-4aa4-a174-957faeb7575d"
   },
   "outputs": [
    {
     "data": {
      "text/plain": [
       "torch.Size([200, 1])"
      ]
     },
     "execution_count": 41,
     "metadata": {
      "tags": []
     },
     "output_type": "execute_result"
    }
   ],
   "source": [
    "input = torch.tensor(indexed + [1] * (200-len(indexed))).unsqueeze(1).to(device)\n",
    "input.shape"
   ]
  },
  {
   "cell_type": "code",
   "execution_count": 42,
   "metadata": {
    "colab": {
     "base_uri": "https://localhost:8080/",
     "height": 0
    },
    "id": "A-77yAS0y0zj",
    "outputId": "a6de0ef2-3940-496b-e09a-4204aa4bc13c"
   },
   "outputs": [
    {
     "data": {
      "text/plain": [
       "tensor([0.9789], device='cuda:0', grad_fn=<SigmoidBackward>)"
      ]
     },
     "execution_count": 42,
     "metadata": {
      "tags": []
     },
     "output_type": "execute_result"
    }
   ],
   "source": [
    "torch.sigmoid(model(input))"
   ]
  },
  {
   "cell_type": "code",
   "execution_count": null,
   "metadata": {
    "id": "8ZSjSh0g0Qlk"
   },
   "outputs": [],
   "source": []
  }
 ],
 "metadata": {
  "accelerator": "GPU",
  "colab": {
   "name": "125_Sentiment_RNN.ipynb",
   "provenance": []
  },
  "kernelspec": {
   "display_name": "Python 3",
   "language": "python",
   "name": "python3"
  },
  "language_info": {
   "codemirror_mode": {
    "name": "ipython",
    "version": 3
   },
   "file_extension": ".py",
   "mimetype": "text/x-python",
   "name": "python",
   "nbconvert_exporter": "python",
   "pygments_lexer": "ipython3",
   "version": "3.7.6"
  }
 },
 "nbformat": 4,
 "nbformat_minor": 4
}
