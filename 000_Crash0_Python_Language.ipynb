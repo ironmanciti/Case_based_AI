{
  "nbformat": 4,
  "nbformat_minor": 0,
  "metadata": {
    "kernelspec": {
      "display_name": "Python 3",
      "language": "python",
      "name": "python3"
    },
    "language_info": {
      "codemirror_mode": {
        "name": "ipython",
        "version": 3
      },
      "file_extension": ".py",
      "mimetype": "text/x-python",
      "name": "python",
      "nbconvert_exporter": "python",
      "pygments_lexer": "ipython3",
      "version": "3.7.5"
    },
    "colab": {
      "name": "000_Crash0_Python_Language.ipynb",
      "provenance": []
    }
  },
  "cells": [
    {
      "cell_type": "markdown",
      "metadata": {
        "id": "m6VOCqC51iD_"
      },
      "source": [
        "# Python Language Crash\n",
        "\n",
        "## Assignment"
      ]
    },
    {
      "cell_type": "code",
      "metadata": {
        "colab": {
          "base_uri": "https://localhost:8080/"
        },
        "id": "030iFQ211iED",
        "outputId": "f13fe27b-df39-4418-ce91-07c89884a002"
      },
      "source": [
        "# Strings\n",
        "data = 'hello world'\n",
        "print(data[0])\n",
        "print(len(data))\n",
        "print(data)"
      ],
      "execution_count": 1,
      "outputs": [
        {
          "output_type": "stream",
          "text": [
            "h\n",
            "11\n",
            "hello world\n"
          ],
          "name": "stdout"
        }
      ]
    },
    {
      "cell_type": "code",
      "metadata": {
        "colab": {
          "base_uri": "https://localhost:8080/"
        },
        "id": "i2AzWZbk1iEE",
        "outputId": "1a4e7824-6950-41ac-9b37-b410878feccc"
      },
      "source": [
        "# Numbers\n",
        "value = 123.1\n",
        "print(value)\n",
        "value = 10\n",
        "print(value)"
      ],
      "execution_count": 2,
      "outputs": [
        {
          "output_type": "stream",
          "text": [
            "123.1\n",
            "10\n"
          ],
          "name": "stdout"
        }
      ]
    },
    {
      "cell_type": "markdown",
      "metadata": {
        "id": "HPRM6oZX1iEF"
      },
      "source": [
        "## if then, else"
      ]
    },
    {
      "cell_type": "code",
      "metadata": {
        "colab": {
          "base_uri": "https://localhost:8080/"
        },
        "id": "yLnPZO5J1iEF",
        "outputId": "35c4aed0-6cd6-4463-b320-449a1cf832f7"
      },
      "source": [
        "value = 99\n",
        "if value >= 99:\n",
        "    print('That is fast')\n",
        "elif value > 200:\n",
        "    print('That is too fast')\n",
        "else:\n",
        "    print('That that is safe')"
      ],
      "execution_count": 5,
      "outputs": [
        {
          "output_type": "stream",
          "text": [
            "That is fast\n"
          ],
          "name": "stdout"
        }
      ]
    },
    {
      "cell_type": "markdown",
      "metadata": {
        "id": "lFMHdzoh1iEG"
      },
      "source": [
        "## for-loop"
      ]
    },
    {
      "cell_type": "code",
      "metadata": {
        "colab": {
          "base_uri": "https://localhost:8080/"
        },
        "id": "ujLnlBJU1iEG",
        "outputId": "b940312f-0492-4d35-9886-3be060d9c8a9"
      },
      "source": [
        "# For-Loop\n",
        "for i in range(10):\n",
        "    print(i)"
      ],
      "execution_count": 6,
      "outputs": [
        {
          "output_type": "stream",
          "text": [
            "0\n",
            "1\n",
            "2\n",
            "3\n",
            "4\n",
            "5\n",
            "6\n",
            "7\n",
            "8\n",
            "9\n"
          ],
          "name": "stdout"
        }
      ]
    },
    {
      "cell_type": "code",
      "metadata": {
        "colab": {
          "base_uri": "https://localhost:8080/"
        },
        "id": "EoQsj6O11iEG",
        "outputId": "b86a6743-abc6-4735-94f8-c974f09a79aa"
      },
      "source": [
        "# While-Loop\n",
        "i = 0\n",
        "while i < 10:\n",
        "    print(i)\n",
        "    i += 1"
      ],
      "execution_count": 7,
      "outputs": [
        {
          "output_type": "stream",
          "text": [
            "0\n",
            "1\n",
            "2\n",
            "3\n",
            "4\n",
            "5\n",
            "6\n",
            "7\n",
            "8\n",
            "9\n"
          ],
          "name": "stdout"
        }
      ]
    },
    {
      "cell_type": "markdown",
      "metadata": {
        "id": "dEqh8bSs1iEG"
      },
      "source": [
        "## list / tuple"
      ]
    },
    {
      "cell_type": "code",
      "metadata": {
        "colab": {
          "base_uri": "https://localhost:8080/"
        },
        "id": "wRzKFHkc1iEH",
        "outputId": "e19854be-5a2c-483f-ad51-6ce00f5d441b"
      },
      "source": [
        "a = [1, 2, 3]\n",
        "b = (1, 2, 3)\n",
        "print(a)\n",
        "print(b)"
      ],
      "execution_count": 8,
      "outputs": [
        {
          "output_type": "stream",
          "text": [
            "[1, 2, 3]\n",
            "(1, 2, 3)\n"
          ],
          "name": "stdout"
        }
      ]
    },
    {
      "cell_type": "code",
      "metadata": {
        "colab": {
          "base_uri": "https://localhost:8080/"
        },
        "id": "iZbvMXU61iEH",
        "outputId": "7a58aa03-8adb-4501-e77c-64a1e58dae40"
      },
      "source": [
        "mylist = [1, 2, 3]\n",
        "print(\"Zeroth Value: \".format(mylist[0]))\n",
        "mylist.append(4)\n",
        "for value in mylist:\n",
        "    print(value)"
      ],
      "execution_count": 9,
      "outputs": [
        {
          "output_type": "stream",
          "text": [
            "Zeroth Value: \n",
            "1\n",
            "2\n",
            "3\n",
            "4\n"
          ],
          "name": "stdout"
        }
      ]
    },
    {
      "cell_type": "markdown",
      "metadata": {
        "id": "Z8BBPxHv1iEH"
      },
      "source": [
        "## dictionary"
      ]
    },
    {
      "cell_type": "code",
      "metadata": {
        "colab": {
          "base_uri": "https://localhost:8080/"
        },
        "id": "o89BWLur1iEH",
        "outputId": "e66b5882-4f5e-4217-dea0-9a2821281fff"
      },
      "source": [
        "mydict = {'a': 1, 'b': 2, 'c': 3}\n",
        "print(\"A value: {}\".format(mydict['a']))\n",
        "mydict['a'] = 11\n",
        "print(mydict.keys())\n",
        "print(mydict.values())\n",
        "for k, v in mydict.items():\n",
        "    print(k, v)"
      ],
      "execution_count": 10,
      "outputs": [
        {
          "output_type": "stream",
          "text": [
            "A value: 1\n",
            "dict_keys(['a', 'b', 'c'])\n",
            "dict_values([11, 2, 3])\n",
            "a 11\n",
            "b 2\n",
            "c 3\n"
          ],
          "name": "stdout"
        }
      ]
    },
    {
      "cell_type": "markdown",
      "metadata": {
        "id": "g_-hWO3P1iEH"
      },
      "source": [
        "## 함수"
      ]
    },
    {
      "cell_type": "code",
      "metadata": {
        "colab": {
          "base_uri": "https://localhost:8080/"
        },
        "id": "8KDGclWS1iEI",
        "outputId": "292fa38b-f742-4b16-fb4a-f02927c1d417"
      },
      "source": [
        "# Sum function\n",
        "def mysum(x, y):\n",
        "    total = x + y\n",
        "    return total\n",
        " \n",
        "# Test sum function\n",
        "print(mysum(1, 3))"
      ],
      "execution_count": 12,
      "outputs": [
        {
          "output_type": "stream",
          "text": [
            "4\n"
          ],
          "name": "stdout"
        }
      ]
    }
  ]
}