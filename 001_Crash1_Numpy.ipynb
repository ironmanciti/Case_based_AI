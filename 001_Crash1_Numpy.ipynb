{
  "nbformat": 4,
  "nbformat_minor": 0,
  "metadata": {
    "kernelspec": {
      "display_name": "Python 3",
      "language": "python",
      "name": "python3"
    },
    "language_info": {
      "codemirror_mode": {
        "name": "ipython",
        "version": 3
      },
      "file_extension": ".py",
      "mimetype": "text/x-python",
      "name": "python",
      "nbconvert_exporter": "python",
      "pygments_lexer": "ipython3",
      "version": "3.7.5"
    },
    "colab": {
      "name": "001_Crash1_Numpy.ipynb",
      "provenance": []
    }
  },
  "cells": [
    {
      "cell_type": "markdown",
      "metadata": {
        "id": "0TPD8xUf2e4U"
      },
      "source": [
        "# 1. Numpy and Linear Algebra (선형대수)\n",
        "\n",
        "- 수치 data 를 다루는데 효율적이고 높은 성능 제공\n",
        "\n",
        "- 각종 수학적 함수 제공\n",
        "\n",
        "- Python scientific library 들이 Numpy 기반으로 구축\n",
        "\n",
        "### ndarray\n",
        "\n",
        "- n-dimensional array (다차원 배열 객체) 로 구성 "
      ]
    },
    {
      "cell_type": "code",
      "metadata": {
        "id": "HCBT8v8l2e4Y"
      },
      "source": [
        "import sys\n",
        "import numpy as np"
      ],
      "execution_count": 1,
      "outputs": []
    },
    {
      "cell_type": "code",
      "metadata": {
        "colab": {
          "base_uri": "https://localhost:8080/"
        },
        "id": "XNXdTf_X2e4a",
        "outputId": "bba1a66f-e197-48f5-d624-1858c2087f64"
      },
      "source": [
        "# 벡터\n",
        "x = np.array([1,2,3])\n",
        "\n",
        "print(\"x = \", x)"
      ],
      "execution_count": 3,
      "outputs": [
        {
          "output_type": "stream",
          "text": [
            "x =  [1 2 3]\n"
          ],
          "name": "stdout"
        }
      ]
    },
    {
      "cell_type": "code",
      "metadata": {
        "colab": {
          "base_uri": "https://localhost:8080/"
        },
        "id": "SqSJovij2e4b",
        "outputId": "83cc7169-50f3-4f69-e91b-39eb2307084d"
      },
      "source": [
        "# matrix\n",
        "y = np.array([[1,2,3], [4,5,6], [7,8,9]])\n",
        "print(y)"
      ],
      "execution_count": 5,
      "outputs": [
        {
          "output_type": "stream",
          "text": [
            "[[1 2 3]\n",
            " [4 5 6]\n",
            " [7 8 9]]\n"
          ],
          "name": "stdout"
        }
      ]
    },
    {
      "cell_type": "code",
      "metadata": {
        "colab": {
          "base_uri": "https://localhost:8080/"
        },
        "id": "t7rs_uZe2e4b",
        "outputId": "dc7bd246-2d80-4f39-c3f3-2c582d721b54"
      },
      "source": [
        "print(\"array dimension {}\".format(y.shape))"
      ],
      "execution_count": 6,
      "outputs": [
        {
          "output_type": "stream",
          "text": [
            "array dimension (3, 3)\n"
          ],
          "name": "stdout"
        }
      ]
    },
    {
      "cell_type": "code",
      "metadata": {
        "colab": {
          "base_uri": "https://localhost:8080/"
        },
        "id": "1JAza61y2e4b",
        "outputId": "2784bb6a-4381-4b66-9f08-fb3391fb329f"
      },
      "source": [
        "x = np.array([[[1, 2], \n",
        "               [3, 2]], \n",
        "              [[1, 7], \n",
        "               [5, 4]]])\n",
        "\n",
        "x.shape"
      ],
      "execution_count": 7,
      "outputs": [
        {
          "output_type": "execute_result",
          "data": {
            "text/plain": [
              "(2, 2, 2)"
            ]
          },
          "metadata": {
            "tags": []
          },
          "execution_count": 7
        }
      ]
    },
    {
      "cell_type": "markdown",
      "metadata": {
        "id": "P-3ezYtf2e4e"
      },
      "source": [
        "### 전치행렬 (Transposed Matrix)"
      ]
    },
    {
      "cell_type": "code",
      "metadata": {
        "colab": {
          "base_uri": "https://localhost:8080/"
        },
        "id": "kZ68YkKX2e4e",
        "outputId": "8b341081-13dd-4567-b167-19a4f3032a83"
      },
      "source": [
        "# matrix transpose\n",
        "A = np.arange(9).reshape((3,3))\n",
        "print(A)"
      ],
      "execution_count": 8,
      "outputs": [
        {
          "output_type": "stream",
          "text": [
            "[[0 1 2]\n",
            " [3 4 5]\n",
            " [6 7 8]]\n"
          ],
          "name": "stdout"
        }
      ]
    },
    {
      "cell_type": "code",
      "metadata": {
        "colab": {
          "base_uri": "https://localhost:8080/"
        },
        "id": "uSLaTYfl2e4e",
        "outputId": "6060027d-385d-463b-b876-9cec7f6deeae"
      },
      "source": [
        "np.transpose(A)"
      ],
      "execution_count": 9,
      "outputs": [
        {
          "output_type": "execute_result",
          "data": {
            "text/plain": [
              "array([[0, 3, 6],\n",
              "       [1, 4, 7],\n",
              "       [2, 5, 8]])"
            ]
          },
          "metadata": {
            "tags": []
          },
          "execution_count": 9
        }
      ]
    }
  ]
}